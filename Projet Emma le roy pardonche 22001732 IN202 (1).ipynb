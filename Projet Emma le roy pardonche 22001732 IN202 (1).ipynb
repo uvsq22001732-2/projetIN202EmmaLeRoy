{
 "cells": [
  {
   "cell_type": "markdown",
   "metadata": {},
   "source": [
    "# Cryptanalyse\n",
    "\n",
    "Votre mission, si vous l'acceptez, est de déchiffrer 4 textes de difficulté croissante en vous aidant d'un programme python que vous allez écrire.\n",
    "\n",
    "\n",
    "- Les fichiers ont été cryptés avec des méthodes données en cours.\n",
    "- Les fichiers chiffrés contiennent des textes en ASCII. Une fois déchiffrés ils vous donneront des informations.\n",
    "- Vous devez vous baser sur les fréquences d'apparition des lettres en français (et des paires de lettres) pour casser les codes. Faire une fonction de calcul pour vous aider.\n",
    "- Penser à réutliser le code du td de cryptographie comme base de travail.\n",
    "- Le code de votre programme doit être sur github et vous fournirez un lien vers votre projet github avec le code et le résultat du décodage\n",
    "en le déposant sur Moodle avant le mercredi 12 mai.\n",
    "- Une soutenance sera organisée le 17 mai.\n",
    "\n",
    "\n"
   ]
  },
  {
   "cell_type": "markdown",
   "metadata": {},
   "source": [
    "Pour le texte 1 : Il faut commencer par faire une analyse fréquentielle, c'est à dire regarder la fréquence de chaque lettre \n",
    "    dans le texte et comparer chaque fréquence avec les fréquences des lettres françaises. Par exemple ici la lettre qui a la \n",
    "    plus grande fréquence est le d et la lettre qui a la plus grande fréquence en français est le e, on peut donc faire une \n",
    "    hypothèse comme quoi le d est probablement un e. Ensuite j'ai utilisé une fonction rang et décalage et une fenêtre tkinter, il suffisait donc ensuite de trouver quelle lettre a été utilisé pour décaler. "
   ]
  },
  {
   "cell_type": "code",
   "execution_count": 7,
   "metadata": {},
   "outputs": [],
   "source": [
    "def frequence(message_chiffre):\n",
    "    resultat = []\n",
    "    for c in message_chiffre:\n",
    "        if 97 <= ord(c) <= 122:\n",
    "            exist= True\n",
    "            for i in range(len(resultat)):\n",
    "                if resultat[i][0]==c:\n",
    "                    exist= False \n",
    "            if exist : \n",
    "                resultat.append([c,round(message_chiffre.count(c)/len(message_chiffre)*100,2)])\n",
    "    return resultat\n",
    "            \n"
   ]
  },
  {
   "cell_type": "code",
   "execution_count": 8,
   "metadata": {},
   "outputs": [
    {
     "data": {
      "text/plain": [
       "[['k', 4.85],\n",
       " ['d', 15.76],\n",
       " ['o', 3.64],\n",
       " ['q', 7.88],\n",
       " ['n', 3.03],\n",
       " ['b', 4.24],\n",
       " ['g', 2.42],\n",
       " ['z', 7.27],\n",
       " ['h', 4.85],\n",
       " ['m', 3.03],\n",
       " ['e', 1.21],\n",
       " ['t', 6.67],\n",
       " ['c', 2.42],\n",
       " ['r', 4.85],\n",
       " ['a', 1.21],\n",
       " ['s', 6.67],\n",
       " ['p', 1.82],\n",
       " ['l', 1.21],\n",
       " ['f', 0.61]]"
      ]
     },
     "execution_count": 8,
     "metadata": {},
     "output_type": "execute_result"
    }
   ],
   "source": [
    "frequence(\"kd oqnbgzhm ehbghdq ztqz tm bncd ozq rtarshstshnm zkogzadshptd: bgzptd kdssqd drs qdlokzbdd ozq tmd ztsqd. tshkhrdq kz eqdptdmbd cdr kdssqdr ontq cdbncdq kd ldrrzfd.\")"
   ]
  },
  {
   "cell_type": "code",
   "execution_count": 9,
   "metadata": {},
   "outputs": [],
   "source": [
    "import tkinter as tk"
   ]
  },
  {
   "cell_type": "code",
   "execution_count": 10,
   "metadata": {},
   "outputs": [],
   "source": [
    "def rang(lettre):\n",
    "    return ord(lettre)-97"
   ]
  },
  {
   "cell_type": "code",
   "execution_count": 11,
   "metadata": {},
   "outputs": [],
   "source": [
    "def decalage(lettre_message,lettre_cle):\n",
    "    if  97 <= ord (lettre_message) <= 122:\n",
    "         return chr((rang(lettre_message) + rang(lettre_cle))%26 + 97)\n",
    "    else :\n",
    "        return lettre_message"
   ]
  },
  {
   "cell_type": "code",
   "execution_count": 12,
   "metadata": {},
   "outputs": [],
   "source": [
    "def dec_texte(texte,cle):\n",
    "    taille_cle =len(cle)\n",
    "    res = \"\"\n",
    "    for i in range(len(texte)):\n",
    "        res += decalage(texte[i], cle[i%taille_cle])\n",
    "    return res\n",
    "\n",
    "def chiffre():\n",
    "    resultat.delete(0,tk.END)\n",
    "    text=entree_texte.get()\n",
    "    cle=entree_cle.get()\n",
    "    if((len(text)>0) and (len(cle)>0)):\n",
    "        res=dec_texte(entree_texte.get(),entree_cle.get())\n",
    "        resultat.insert(0,res)\n",
    "    else:\n",
    "        resultat.insert(0,\"il manque quelque chose\")\n",
    "    "
   ]
  },
  {
   "cell_type": "code",
   "execution_count": 13,
   "metadata": {},
   "outputs": [],
   "source": [
    "racine=tk.Tk()\n",
    "racine.title(\"Cryptographie\")\n",
    "\n",
    "entree_texte = tk.Entry(racine, width = 50, font = (\"helvetica\", \"20\"))\n",
    "entree_texte.grid(row = 0, column = 0)\n",
    "\n",
    "entree_cle = tk.Entry(racine, width = 50, font = (\"helvetica\", \"20\"))\n",
    "entree_cle.grid(row = 1, column = 0)\n",
    "\n",
    "label_texte = tk.Label(racine,font = (\"helvetica\", \"20\"), text = \"Entrer le message ici.\")\n",
    "label_texte.grid(row = 0, column = 1)\n",
    "\n",
    "label_cle = tk.Label(racine,font = (\"helvetica\", \"20\"), text = \"Entrer la clé ici.\")\n",
    "label_cle.grid(row = 1, column = 1)\n",
    "\n",
    "label_dech = tk.Label(racine, font = (\"helvetica\", \"20\"), text = \"déchiffrer\" )\n",
    "label_dech.grid(row=3, column = 1)\n",
    "\n",
    "bouton_coder=tk.Button(racine, text=\"Chiffrer texte\",fg=\"black\", width=15, command=chiffre)\n",
    "bouton_coder.grid(row=2, column=0)\n",
    "\n",
    "bouton_decoder=tk.Button(racine,text=\"Déchiffrer texte\",fg=\"black\",  width=15,command=chiffre)\n",
    "bouton_decoder.grid(row=2, column=1)\n",
    "\n",
    "resultat=tk.Entry(racine,width = 50, font = (\"helvetica\", \"20\"))\n",
    "resultat.grid(row=3,column=0)\n",
    "\n",
    "racine.mainloop()"
   ]
  },
  {
   "cell_type": "markdown",
   "metadata": {},
   "source": [
    "texte 1 :le prochain fichier aura un code par substitution alphabetique: chaque lettre est remplacee par une autre. utiliser la frequence des lettres pour decoder le message."
   ]
  },
  {
   "cell_type": "markdown",
   "metadata": {},
   "source": [
    "clé b"
   ]
  },
  {
   "cell_type": "markdown",
   "metadata": {},
   "source": [
    "Pour le texte 2 : L'indice du texte 1 est que le texte 2 est codé par substitution alphabétique donc chaque lettre est remplacée par une autre, je me suis encore servie de l'analyse fréquentielle pour emettre des hypothèses. Par exemple dans le texte 2 la lettre avec la plus grande fréquence est le x donc c'est probablement un e. J'ai remarqué que les 3 premiers mots du texte avaient le même nombre de lettres que les 3 premiers mots du texte 1 donc je suis parti du fait que les 3 premiers mots du texte 2 étaient \"le prochain fichier\" comme le texte 1. En décodant les 3 premiers mots on remarque que ça fonctionne bien on retrouve deux fois le e codé par un x, le h codé par un l et le i codé par un k. Donc j'ai réussit a décoder le texte à la main. J'ai ensuite trouvé un \"alphabet\" de substitution, pour vérifier j'ai donc fait une fonction avec l'alphabet normal et l'alphabet de substitution, cette fonction sert à associer ,si \"c\" (n'importe qu'elle lettre) est dans le texte et est entre le code ASCII 97 et 122, sa place dans l'alphabet normal donc on obtient sa position correspondante. Par exemple prenons la première lettre g dans le texte on associe donc à g sa position dans l'alphabet donc la position 6 qu'on attribue à i, et donc ensuite on ajoute dans rep la position 6 de l'alphabet de substitution pour g. Et ainsi de suite jusqu'a avoir parcourut toutes les lettres du texte. "
   ]
  },
  {
   "cell_type": "code",
   "execution_count": 3,
   "metadata": {},
   "outputs": [
    {
     "name": "stdout",
     "output_type": "stream",
     "text": [
      "le prochain fichier est code par un mot de passe de taille inconnue et contient l'indice. les lettres du mot de passe permettent de decaler les lettres du message original modulo 26. seules les lettres de a a ? sont chiffrees.\n"
     ]
    }
   ],
   "source": [
    "alphabet = \"abcdefghijklmnopqrstuvwxyz\"\n",
    "alphabet_substitution = \"?_dn_ml_s_ihgar_p_o_tcfeu_\"\n",
    "text2 = \"gx qosvlnkd wkvlkxo xiu vscx qno yd fsu cx qniix cx unkggx kdvsddyx xu vsdukxdu g'kdckvx. gxi gxuuoxi cy fsu cx qniix qxofxuuxdu cx cxvngxo gxi gxuuoxi cy fxiinmx sokmkdng fscygs 26. ixygxi gxi gxuuoxi cx n n a isdu vlkwwoxxi.\"\n",
    "\n",
    "rep = \"\"\n",
    "\n",
    "for c in text2:\n",
    "    if 97 <= ord(c) <= 122:\n",
    "        i = alphabet.index(c)\n",
    "        rep += alphabet_substitution[i]\n",
    "    else :\n",
    "        rep += c \n",
    "print(rep)"
   ]
  },
  {
   "cell_type": "markdown",
   "metadata": {},
   "source": [
    "texte 2 : le prochain fichier est code par un mot de passe de taille inconnue et contient l'indice.\n",
    "    les lettres du mot de passe permettent de decaler les lettres du message original modulo 26. seules\n",
    "    les lettres de a à ? sont chiffrees. "
   ]
  },
  {
   "cell_type": "markdown",
   "metadata": {},
   "source": [
    "clé : \"?_dn_ml_s_ihgar_p_o_tcfeu__\""
   ]
  },
  {
   "cell_type": "markdown",
   "metadata": {},
   "source": [
    "Pour le texte 3 : Je me suis servie des coincidences c'est à dire des répétitions de suite de lettres, ces répétitions donnent surement le même mot donc ont surement été codées par les mêmes lettres du mot de passe. Les coincidences vont nous servir a trouver la taille du mot de passe : j'ai utilisé la répétition \"wy\" on compte 24 caractères les séparant, la répétition \"cg\" on compte 60 caractères et ensuite la répétition \"c\" on compte 20 caractères les séparant. Ensuite j'ai cherché les multiples de 24, 60 et 20 et j'ai pris les multiples communs c'est à dire 1,2 et 4. Le 1 est impossible sinon les lettres auraient été juste décalé. La taille la plus probable est 4. J'ai donc divisé le texte par 4 à la main (j'ai obtenu donc 4 colonnes), j'ai ensuite cherché des hypothèses, les \"c\" tous seuls sont surement des \"a\", donc a est en position 0 et c en position 2 donc le décalage est de 2 et la lettre correspondante à la position 2 est le c, sachant que les \"c\" sont dans le 1ère colonne ils correspondent donc à la première lettre du mot de passe donc la première lettre du mot de passe est un c. Ensuite au début du texte il y a un \"e\" tout seul cette lettre peut correspondre aussi à un \"a\" car chaque colonne obtenue est indépendante. Donc le e est en position 4 et le a en position 0 le décalage est donc de 4, la lettre correspondante à la position 4 dans l'alphabet est le e, donc la troisième lettre du mot de passe est un e, car le e dans le texte se trouve  dans la troisième colonne obtenue. \n",
    "J'ai donc utilisé la fonction rang et décalage du premier texte et crée une fonction enumerate qui permet de passer pour tous les caractères du texte, de garder le c in texte, d'appliquer le modulo pour faire correspondre la lettre du texte à la bonne lettre du mot de passe. J'ai commencé par utilisé \"caea\" comme mot de passe les \"a\" sont utilisés pour ne pas changer les lettres du texte original. Une partie des lettres étaient décodées j'ai donc continuer a chercher des mots pour trouver que le mot de passe était \"clez\".  "
   ]
  },
  {
   "cell_type": "code",
   "execution_count": 4,
   "metadata": {},
   "outputs": [
    {
     "name": "stdout",
     "output_type": "stream",
     "text": [
      "bravo a l'aide de l'indice vous avez reussi a casser ce code et a finir ce devoir. le dernier texte est pour les braves, regardez vous dans un miroir, en etes vous un ?\n"
     ]
    }
   ],
   "source": [
    "text3 = \"dceuq e n'ehfp cg p'kyhhep uqfw cgiy citudm c gzudiq ni ezhd px c jhptv ep cggsht. kg hdtymdt xdzei gdx rzyq wir mvzxpw, cifcchdb znwd ccyw wy lkcsht, dp isgd uqfw wy ?\"\n",
    "mdp = \"clez\"\n",
    "\n",
    "def rang(lettre):\n",
    "    return ord(lettre)-97\n",
    "\n",
    "def decalage(lettre_message,lettre_cle):\n",
    "    if  97 <= ord (lettre_message) <= 122:\n",
    "         return chr((rang(lettre_message) - rang(lettre_cle))%26 + 97)\n",
    "    else :\n",
    "        return lettre_message\n",
    "\n",
    "rep =\"\"\n",
    "    \n",
    "for i, c in enumerate(text3):\n",
    "    j = i%4\n",
    "    lettre_cle = mdp[j]\n",
    "    rep += decalage(c, lettre_cle)\n",
    "\n",
    "print(rep)\n",
    "    "
   ]
  },
  {
   "cell_type": "markdown",
   "metadata": {},
   "source": [
    "texte 3 : bravo a l'aide de l'indice vous avez reussi a casser ce code et a finir ce devoir. le dernier texte est pour les braves, regardez vous dans un miroir, en etes vous un ?"
   ]
  },
  {
   "cell_type": "markdown",
   "metadata": {},
   "source": [
    "mot de passe = clez"
   ]
  },
  {
   "cell_type": "markdown",
   "metadata": {},
   "source": [
    "Pour le texte 4 : Le texte 3 donne pas d'indice sur la facon dont a été codé le texte 4, donc je suppose que c'est un codage avec un mot de passe comme le texte3. J'ai essayé d'utiliser les coincidences comme pour le texte 3, mais les tailles obtenues n'étaient pas cohérentes. Donc j'ai essayé de trouver un mot du texte, on peut remarquer que des lettres du texte ne sont pas codées donc il y a forcément un \"a\" dans le mot de passe. L'indice du texte 3 est le miroir, donc j'ai inversé le texte avec la méthode reversed(). Ensuite j'ai essayé de trouver le mot qui commence par un M majuscule car ce M n'est pas codé car seulement les lettres du code ASCII entre 97 et 122 sont codées. Un mot commencant par une majuscule est surement un nom propre : donc un prénom, lieu, pays...Le mot fait six lettres je suis partie sur le mot Mexique. Donc ensuite j'ai essayé de trouver les lettres de décalage par rapport au mot dans le texte original. J'ai donc trouvé \"bravez\" et j'ai donc testé le programme avec ce mot de passe et ça fonctionne. "
   ]
  },
  {
   "cell_type": "code",
   "execution_count": 5,
   "metadata": {},
   "outputs": [
    {
     "name": "stdout",
     "output_type": "stream",
     "text": [
      "je voudrais pas crever avant d'avoir connu les chiens noirs du Mexique qui dorment sans rever les singes à cul nu devoreurs de tropiques les araignees d'argent au nid truffe de bulles  je voudrais pas crever sans savoir si la lune sous son faux air de thune a un cote pointu si le soleil est froid si les quatre saisons ne sont vraiment que quatre sans avoir essaye de porter une robe sur les grands boulevards\n"
     ]
    }
   ],
   "source": [
    "text4_reverse = reversed(\"jeqeqecvnf suozvb jfk muj dfjr fmy rvuqsk ve itajtd mifwz nnrt imtrvp zuh srzmzbqz tepr zn tmsnirt imtrvp nec hw dzpqj tjf pdecpr zl jr ptejnt ekpb iu b iiuyu iy ijz surg rjs ttsn votp ac hw rzpuen jozw rvwdvx jbo nirscyjv fi  svmkyw ve iaflss yie te teffvv'u riznxjzvv jfk nelrhtjrk dh sivdvjvve yi cvb à jffrds tdp rvwdv sebr onvnqsy zvp zuhjwiM le wmifo wiezib nec triot qmjvr'c onrwz memfqg srq wdaietsq vk\")\n",
    "mdp = \"bravez\"\n",
    "def rang(lettre):\n",
    "    return ord(lettre)-97\n",
    "\n",
    "def decalage(lettre_message,lettre_cle):\n",
    "    if  97 <= ord (lettre_message) <= 122:\n",
    "         return chr((rang(lettre_message) - rang(lettre_cle))%26 + 97)\n",
    "    else :\n",
    "        return lettre_message\n",
    "\n",
    "rep =\"\"\n",
    "    \n",
    "for i, c in enumerate(text4_reverse):\n",
    "    j = i%6\n",
    "    lettre_cle = mdp[j]\n",
    "    rep += decalage(c, lettre_cle)\n",
    "    \n",
    "print(rep)\n"
   ]
  },
  {
   "cell_type": "markdown",
   "metadata": {},
   "source": [
    "tesxte 4 : je voudrais pas crever avant d'avoir connu les chiens noirs du Mexique qui dorment sans rever les singes à cul nu devoreurs de tropiques les araignees d'argent au nid truffe de bulles  je voudrais pas crever sans savoir si la lune sous son faux air de thune a un cote pointu si le soleil est froid si les quatre saisons ne sont vraiment que quatre sans avoir essaye de porter une robe sur les grands boulevards"
   ]
  },
  {
   "cell_type": "markdown",
   "metadata": {},
   "source": [
    "mot de passe = bravez"
   ]
  },
  {
   "cell_type": "code",
   "execution_count": null,
   "metadata": {},
   "outputs": [],
   "source": []
  }
 ],
 "metadata": {
  "kernelspec": {
   "display_name": "Python 3",
   "language": "python",
   "name": "python3"
  },
  "language_info": {
   "codemirror_mode": {
    "name": "ipython",
    "version": 3
   },
   "file_extension": ".py",
   "mimetype": "text/x-python",
   "name": "python",
   "nbconvert_exporter": "python",
   "pygments_lexer": "ipython3",
   "version": "3.8.5"
  }
 },
 "nbformat": 4,
 "nbformat_minor": 2
}
